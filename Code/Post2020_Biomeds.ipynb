{
 "cells": [
  {
   "cell_type": "code",
   "execution_count": 1,
   "metadata": {},
   "outputs": [],
   "source": [
    "import pandas as pd\n",
    "import seaborn as sns\n",
    "import time\n",
    "import re\n",
    "import numpy as np\n",
    "from selenium import webdriver\n",
    "from selenium.webdriver.common.by import By\n",
    "from selenium.webdriver.support.ui import WebDriverWait\n",
    "from selenium.webdriver.support import expected_conditions as EC"
   ]
  },
  {
   "cell_type": "code",
   "execution_count": 9,
   "metadata": {},
   "outputs": [],
   "source": [
    "url = \"https://nec.gov.np/applicant/cat_online/34\"\n",
    "driver = webdriver.Chrome()\n",
    "driver.get(url)\n",
    "\n",
    "element = driver.find_element(\"id\", \"datatables1_info\")\n",
    "text = element.text\n",
    "numbers = re.findall(r'\\d+', text)\n",
    "numbers = list(map(int, numbers))\n",
    "\n",
    "total_entries = numbers[2]\n",
    "grouping_of = numbers[1]\n",
    "no_pages = int(np.ceil(total_entries/grouping_of))\n",
    "print(no_pages)\n",
    "\n",
    "titles = []\n",
    "\n",
    "\n",
    "for page in range(1, no_pages+1):\n",
    "    # Wait for the table to load\n",
    "    WebDriverWait(driver, 10).until(EC.presence_of_element_located((By.TAG_NAME, \"table\")))\n",
    "    \n",
    "    # Extract data from the current page\n",
    "    rows = driver.find_elements(By.TAG_NAME, \"tr\")[1:]  # Skip header row\n",
    "    for row in rows:\n",
    "        cols = row.find_elements(By.TAG_NAME, \"td\")\n",
    "        title_element = cols[4].find_element(By.TAG_NAME, \"a\")\n",
    "        title = title_element.get_attribute(\"title\")\n",
    "        titles.append(title)\n",
    "    \n",
    "    # Go to next page\n",
    "    if page <= no_pages:\n",
    "        next_button = driver.find_element(By.LINK_TEXT, \"Next\")\n",
    "        next_button.click()\n",
    "        time.sleep(2)  # Wait for page to load\n",
    "\n",
    "# Close the WebDriver session\n",
    "driver.quit()"
   ]
  },
  {
   "cell_type": "code",
   "execution_count": 12,
   "metadata": {},
   "outputs": [],
   "source": [
    "data_list = []\n",
    "driver = webdriver.Firefox()\n",
    "for i in titles:\n",
    "    details_url = f'https://nec.gov.np/applicant/detailview/{i}'\n",
    "    driver.get(details_url)\n",
    "\n",
    "    name_ind =          driver.find_element(By.XPATH, '/html/body/div[3]/div[1]/div/div[3]/div/div/section/div/table/tbody/tr[1]/td[1]').text\n",
    "    gender_ind =        driver.find_element(By.XPATH, '/html/body/div[3]/div[1]/div/div[3]/div/div/section/div/table/tbody/tr[2]/td[1]').text\n",
    "    passoutyear_ind =   driver.find_element(By.XPATH, '/html/body/div[3]/div[1]/div/div[3]/div/div/section/div/table/tbody/tr[4]/td[1]').text\n",
    "    address_ind =       driver.find_element(By.XPATH, '/html/body/div[3]/div[1]/div/div[3]/div/div/section/div/table/tbody/tr[1]/td[2]').text\n",
    "    uni_country =       driver.find_element(By.XPATH, '/html/body/div[3]/div[1]/div/div[3]/div/div/section/div/table/tbody/tr[3]/td[2]').text\n",
    "    category      =     driver.find_element(By.XPATH, '/html/body/div[3]/div[1]/div/div[3]/div/div/section/div/table/tbody/tr[2]/td[2]').text\n",
    "    qualification =     driver.find_element(By.XPATH, '/html/body/div[3]/div[1]/div/div[3]/div/div/section/div/table/tbody/tr[3]/td[1]').text\n",
    "    reg_no=             driver.find_element(By.XPATH, '/html/body/div[3]/div[1]/div/div[3]/div/div/section/div/table/tbody/tr[4]/td[2]').text\n",
    "\n",
    "\n",
    "    data = {\n",
    "    \"Name\" : name_ind,\n",
    "    \"Gender\": gender_ind,\n",
    "    \"Passout Year\": passoutyear_ind,\n",
    "    \"University/Country\": uni_country,\n",
    "    \"Category\" : category,\n",
    "    \"Reg Number\": reg_no,\n",
    "    \"Qualification\":qualification,\n",
    "    \"Address\":address_ind\n",
    "}\n",
    "    \n",
    "    data_list.append(data)\n",
    "driver.quit()    "
   ]
  },
  {
   "cell_type": "code",
   "execution_count": 14,
   "metadata": {},
   "outputs": [],
   "source": [
    "df = pd.DataFrame(data_list)"
   ]
  },
  {
   "cell_type": "code",
   "execution_count": 16,
   "metadata": {},
   "outputs": [],
   "source": [
    "df.to_csv(\"Post2020.csv\", index=False)"
   ]
  }
 ],
 "metadata": {
  "kernelspec": {
   "display_name": "base",
   "language": "python",
   "name": "python3"
  },
  "language_info": {
   "codemirror_mode": {
    "name": "ipython",
    "version": 3
   },
   "file_extension": ".py",
   "mimetype": "text/x-python",
   "name": "python",
   "nbconvert_exporter": "python",
   "pygments_lexer": "ipython3",
   "version": "3.12.4"
  }
 },
 "nbformat": 4,
 "nbformat_minor": 2
}
